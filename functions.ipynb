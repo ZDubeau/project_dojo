{
 "cells": [
  {
   "cell_type": "raw",
   "metadata": {},
   "source": [
    "\n",
    "--------------------------------------- Project Dojo_Functions -----------------------------------------------\n",
    "\n",
    "------------------------------------- Algorithms using functions ---------------------------------------------\n"
   ]
  },
  {
   "cell_type": "markdown",
   "metadata": {},
   "source": [
    "1. Define a function that generate a tuple containing attribute names and call it\n",
    "\n",
    "('item', 'price', 'brand', 'stock', 'categories')"
   ]
  },
  {
   "cell_type": "code",
   "execution_count": null,
   "metadata": {},
   "outputs": [],
   "source": [
    "# Define a Tuple function\n",
    "def my_tuple():\n",
    "    string = 'item', 'price', 'brand', 'stock', 'categories'\n",
    "    return string\n",
    "\n",
    "string = my_tuple()\n",
    "print(string)"
   ]
  },
  {
   "cell_type": "raw",
   "metadata": {},
   "source": [
    "Output: ('item', 'price', 'brand', 'stock', 'categories')"
   ]
  },
  {
   "cell_type": "markdown",
   "metadata": {},
   "source": [
    "2. Define a function that take values as arguments and generate a tuple containing data values (corresponding to the previous attribute names), and call it\n",
    "\n",
    "('Switch', 299.0, 'Nintendo', 12, ['video-games', 'entertainment'])"
   ]
  },
  {
   "cell_type": "code",
   "execution_count": null,
   "metadata": {},
   "outputs": [],
   "source": [
    "# 1st way\n",
    "def tuple_list(*argument): # We can pass multiple arguments(*) in function without predetermining\n",
    "                           # the formal parameters using the this syntax\n",
    "    return argument\n",
    "\n",
    "arg = tuple_list('Switch', 299.0, 'Nintendo', 12, ['video-games', 'entertainment']) \n",
    "print(arg)"
   ]
  },
  {
   "cell_type": "raw",
   "metadata": {},
   "source": [
    "Output: ('Switch', 299.0, 'Nintendo', 12, ['video-games', 'entertainment'])"
   ]
  },
  {
   "cell_type": "code",
   "execution_count": null,
   "metadata": {},
   "outputs": [],
   "source": [
    "# 2nd way\n",
    "def tuple_list(arg1, arg2, arg3, arg4, arg5):\n",
    "    return arg1, arg2, arg3, arg4, arg5\n",
    "\n",
    "z = tuple_list('Switch', 299.0, 'Nintendo', 12, ['video-games', 'entertainment']) \n",
    "print(z)"
   ]
  },
  {
   "cell_type": "raw",
   "metadata": {},
   "source": [
    "Output: ('Switch', 299.0, 'Nintendo', 12, ['video-games', 'entertainment'])"
   ]
  },
  {
   "cell_type": "markdown",
   "metadata": {},
   "source": [
    "3. Define a function that generate a list of tuple containing data values, using the previous function\n",
    "\n",
    "[('Switch', 299.0, 'Nintendo', 12, ['video-games', 'entertainment']),\n",
    " ('PS4', 499.0, 'Sony', 12, ['video-games', 'entertainment']),\n",
    " ('The Walking Dead, Tome 1', 18.5, None, 3, ['books', 'comics']),\n",
    " ('Weapons of Math Destruction', 29.9, None, 0, ['books', 'science']),\n",
    " (\"The Dead Don't Die\", 15.9, None, 12, ['movie', 'bluray'])]"
   ]
  },
  {
   "cell_type": "code",
   "execution_count": null,
   "metadata": {},
   "outputs": [],
   "source": [
    "def ListOfTuple(*argument):\n",
    "    listTuples = [arg]\n",
    "    for elt in argument[0]:\n",
    "        listTuples.append(elt)\n",
    "    return listTuples\n",
    "\n",
    "x = list(arg)\n",
    "a = ('PS4', 499.0, 'Sony', 12, ['video-games', 'entertainment']),('The Walking Dead, Tome 1', 18.5, None, 3, ['books', 'comics']),('Weapons of Math Destruction', 29.9, None, 0, ['books', 'science']),(\"The Dead Don't Die\", 15.9, None, 12, ['movie', 'bluray'])\n",
    "\n",
    "ListOfTuple(a)"
   ]
  },
  {
   "cell_type": "raw",
   "metadata": {},
   "source": [
    "Output: [('Switch', 299.0, 'Nintendo', 12, ['video-games', 'entertainment']),\n",
    "         ('PS4', 499.0, 'Sony', 12, ['video-games', 'entertainment']),\n",
    "         ('The Walking Dead, Tome 1', 18.5, None, 3, ['books', 'comics']),\n",
    "         ('Weapons of Math Destruction', 29.9, None, 0, ['books', 'science']),\n",
    "         (\"The Dead Don't Die\", 15.9, None, 12, ['movie', 'bluray'])]"
   ]
  },
  {
   "cell_type": "markdown",
   "metadata": {},
   "source": [
    "4. Define a function that take 2 tuples and return 1 dictionary: the first tuple contains the keys, the second contains the values\n",
    "\n",
    "{'item': 'Switch',\n",
    " 'price': 299.0,\n",
    " 'brand': 'Nintendo',\n",
    " 'stock': 12,\n",
    " 'categories': ['video-games', 'entertainment']}"
   ]
  },
  {
   "cell_type": "code",
   "execution_count": 1,
   "metadata": {},
   "outputs": [
    {
     "data": {
      "text/plain": [
       "{'item': 'Switch',\n",
       " 'price': 299.0,\n",
       " 'brand': 'Nintendo',\n",
       " 'stock': 12,\n",
       " 'categories': ['video-games', 'entertainment']}"
      ]
     },
     "execution_count": 1,
     "metadata": {},
     "output_type": "execute_result"
    }
   ],
   "source": [
    "def func_4():\n",
    "    \n",
    "    tuple_key = ('item', 'price', 'brand', 'stock', 'categories')\n",
    "    tuple_value = ('Switch', 299.0, 'Nintendo', 12, ['video-games', 'entertainment'])\n",
    "\n",
    "    dict_tuples = dict(zip(tuple_key,tuple_value))\n",
    "    \n",
    "    return dict_tuples\n",
    "\n",
    "\n",
    "func_4()"
   ]
  },
  {
   "cell_type": "raw",
   "metadata": {},
   "source": [
    "Output: {'item': 'Switch',\n",
    "         'price': 299.0,\n",
    "         'brand': 'Nintendo',\n",
    "         'stock': 12,\n",
    "         'categories': ['video-games', 'entertainment']}"
   ]
  },
  {
   "cell_type": "markdown",
   "metadata": {},
   "source": [
    "5. Define a function that take 1 tuple (keys) and 1 list of tuples (values), and generate 1 list of dictionaries\n",
    "\n",
    "[{'item': 'Switch',\n",
    "  'price': 299.0,\n",
    "  'brand': 'Nintendo',\n",
    "  'stock': 12,\n",
    "  'categories': ['video-games', 'entertainment']},\n",
    " {'item': 'PS4',\n",
    "  'price': 499.0,\n",
    "  'brand': 'Sony',\n",
    "  'stock': 12,\n",
    "  'categories': ['video-games', 'entertainment']},\n",
    " {'item': 'The Walking Dead, Tome 1',\n",
    "  'price': 18.5,\n",
    "  'brand': None,\n",
    "  'stock': 3,\n",
    "  'categories': ['books', 'comics']},\n",
    " {'item': 'Weapons of Math Destruction',\n",
    "  'price': 29.9,\n",
    "  'brand': None,\n",
    "  'stock': 0,\n",
    "  'categories': ['books', 'science']},\n",
    " {'item': \"The Dead Don't Die\",\n",
    "  'price': 15.9,\n",
    "  'brand': None,\n",
    "  'stock': 12,\n",
    "  'categories': ['movie', 'bluray']}]"
   ]
  },
  {
   "cell_type": "code",
   "execution_count": 7,
   "metadata": {},
   "outputs": [
    {
     "data": {
      "text/plain": [
       "[{'item': 'Switch',\n",
       "  'price': 299.0,\n",
       "  'brand': 'Nintendo',\n",
       "  'stock': 12,\n",
       "  'categories': ['video-games', 'entertainment']},\n",
       " {'item': 'PS4',\n",
       "  'price': 499.0,\n",
       "  'brand': 'Sony',\n",
       "  'stock': 12,\n",
       "  'categories': ['video-games', 'entertainment']},\n",
       " {'item': 'The Walking Dead, Tome 1',\n",
       "  'price': 18.5,\n",
       "  'brand': None,\n",
       "  'stock': 3,\n",
       "  'categories': ['books', 'comics']},\n",
       " {'item': \"The Dead Don't Die\",\n",
       "  'price': 15.9,\n",
       "  'brand': None,\n",
       "  'stock': 12,\n",
       "  'categories': ['movie', 'bluray']}]"
      ]
     },
     "execution_count": 7,
     "metadata": {},
     "output_type": "execute_result"
    }
   ],
   "source": [
    "def func_5(keys, values):\n",
    "    \n",
    "    list_dict = []\n",
    "    for value in values:\n",
    "        dict_1 = {}\n",
    "        i = 0\n",
    "        for key in keys:\n",
    "            dict_1[key]=value[i]\n",
    "            i +=1\n",
    "        list_dict.append(dict_1)\n",
    "    return list_dict\n",
    "\n",
    "tuple_key = ('item', 'price', 'brand', 'stock', 'categories')\n",
    "list_tuples_value = [('Switch', 299.0, 'Nintendo', 12, ['video-games', 'entertainment']),\n",
    "                    ('PS4', 499.0, 'Sony', 12, ['video-games', 'entertainment']),\n",
    "                    ('The Walking Dead, Tome 1', 18.5, None, 3, ['books', 'comics']),\n",
    "                    (\"The Dead Don't Die\", 15.9, None, 12, ['movie', 'bluray'])]\n",
    "\n",
    "func_5(tuple_key, list_tuples_value)"
   ]
  },
  {
   "cell_type": "raw",
   "metadata": {},
   "source": [
    "Output: [{'item': 'Switch',\n",
    "          'price': 299.0,\n",
    "          'brand': 'Nintendo',\n",
    "          'stock': 12,\n",
    "          'categories': ['video-games', 'entertainment']},\n",
    "         {'item': 'PS4',\n",
    "          'price': 499.0,\n",
    "          'brand': 'Sony',\n",
    "          'stock': 12,\n",
    "          'categories': ['video-games', 'entertainment']},\n",
    "         {'item': 'The Walking Dead, Tome 1',\n",
    "          'price': 18.5,\n",
    "          'brand': None,\n",
    "          'stock': 3,\n",
    "          'categories': ['books', 'comics']},\n",
    "         {'item': \"The Dead Don't Die\",\n",
    "          'price': 15.9,\n",
    "          'brand': None,\n",
    "          'stock': 12,\n",
    "          'categories': ['movie', 'bluray']}]"
   ]
  },
  {
   "cell_type": "raw",
   "metadata": {},
   "source": [
    "6. Define a function that take the list of dictionaries and a maximum price and returns a list of the filtered dictionaries\n",
    "\n",
    "[{'item': 'The Walking Dead, Tome 1',\n",
    "  'price': 18.5,\n",
    "  'brand': None,\n",
    "  'stock': 3,\n",
    "  'categories': ['books', 'comics']},\n",
    " {'item': 'Weapons of Math Destruction',\n",
    "  'price': 29.9,\n",
    "  'brand': None,\n",
    "  'stock': 0,\n",
    "  'categories': ['books', 'science']},\n",
    " {'item': \"The Dead Don't Die\",\n",
    "  'price': 15.9,\n",
    "  'brand': None,\n",
    "  'stock': 12,\n",
    "  'categories': ['movie', 'bluray']}]"
   ]
  },
  {
   "cell_type": "code",
   "execution_count": 13,
   "metadata": {},
   "outputs": [
    {
     "data": {
      "text/plain": [
       "[{'item': 'The Walking Dead, Tome 1',\n",
       "  'price': 18.5,\n",
       "  'brand': None,\n",
       "  'stock': 3,\n",
       "  'categories': ['books', 'comics']},\n",
       " {'item': \"The Dead Don't Die\",\n",
       "  'price': 15.9,\n",
       "  'brand': None,\n",
       "  'stock': 12,\n",
       "  'categories': ['movie', 'bluray']},\n",
       " {'item': 'Weapons of Math Destruction',\n",
       "  'price': 29.9,\n",
       "  'brand': None,\n",
       "  'stock': 0,\n",
       "  'categories': ['books', 'science']}]"
      ]
     },
     "execution_count": 13,
     "metadata": {},
     "output_type": "execute_result"
    }
   ],
   "source": [
    "def func_6(list_dict,maximum_price):\n",
    "    \n",
    "    list_result = []\n",
    "    for dict_ in list_dict:\n",
    "        if dict_['price'] <= maximum_price:\n",
    "            list_result.append(dict_)    \n",
    "    return list_result\n",
    "\n",
    "new_dict = {'item': 'Weapons of Math Destruction',\n",
    "              'price': 29.9,\n",
    "              'brand': None,\n",
    "              'stock': 0,\n",
    "              'categories': ['books', 'science']}\n",
    "list_of_dict = func_5(tuple_key, list_tuples_value)\n",
    "list_of_dict.append(new_dict)\n",
    "func_6(list_of_dict, 30)"
   ]
  },
  {
   "cell_type": "raw",
   "metadata": {},
   "source": [
    "7. Define a function that take the list of dictionaries and a category name and returns a list of the filtered dictionaries\n",
    "\n",
    "[{'item': 'The Walking Dead, Tome 1',\n",
    "  'price': 18.5,\n",
    "  'brand': None,\n",
    "  'stock': 3,\n",
    "  'categories': ['books', 'comics']},\n",
    " {'item': 'Weapons of Math Destruction',\n",
    "  'price': 29.9,\n",
    "  'brand': None,\n",
    "  'stock': 0,\n",
    "  'categories': ['books', 'science']}]"
   ]
  },
  {
   "cell_type": "code",
   "execution_count": 16,
   "metadata": {},
   "outputs": [
    {
     "data": {
      "text/plain": [
       "[{'item': 'The Walking Dead, Tome 1',\n",
       "  'price': 18.5,\n",
       "  'brand': None,\n",
       "  'stock': 3,\n",
       "  'categories': ['books', 'comics']},\n",
       " {'item': 'Weapons of Math Destruction',\n",
       "  'price': 29.9,\n",
       "  'brand': None,\n",
       "  'stock': 0,\n",
       "  'categories': ['books', 'science']}]"
      ]
     },
     "execution_count": 16,
     "metadata": {},
     "output_type": "execute_result"
    }
   ],
   "source": [
    "def func_7(list_dict, name_categories):\n",
    "    \n",
    "    list_result = []\n",
    "    for dict_ in list_dict:\n",
    "        if name_categories in dict_['categories']:\n",
    "            list_result.append(dict_)\n",
    "    return list_result\n",
    "\n",
    "new_dict = {'item': 'Weapons of Math Destruction',\n",
    "              'price': 29.9,\n",
    "              'brand': None,\n",
    "              'stock': 0,\n",
    "              'categories': ['books', 'science']}\n",
    "list_of_dict = func_5(tuple_key, list_tuples_value)\n",
    "list_of_dict.append(new_dict)\n",
    "\n",
    "func_7(list_of_dict, 'books')    "
   ]
  },
  {
   "cell_type": "raw",
   "metadata": {},
   "source": [
    "Output: [{'item': 'The Walking Dead, Tome 1',\n",
    "          'price': 18.5,\n",
    "          'brand': None,\n",
    "          'stock': 3,\n",
    "          'categories': ['books', 'comics']},\n",
    "         {'item': 'Weapons of Math Destruction',\n",
    "          'price': 29.9,\n",
    "          'brand': None,\n",
    "          'stock': 0,\n",
    "          'categories': ['books', 'science']}]"
   ]
  }
 ],
 "metadata": {
  "kernelspec": {
   "display_name": "Python 3",
   "language": "python",
   "name": "python3"
  },
  "language_info": {
   "codemirror_mode": {
    "name": "ipython",
    "version": 3
   },
   "file_extension": ".py",
   "mimetype": "text/x-python",
   "name": "python",
   "nbconvert_exporter": "python",
   "pygments_lexer": "ipython3",
   "version": "3.6.9"
  }
 },
 "nbformat": 4,
 "nbformat_minor": 2
}
