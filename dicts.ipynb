{
 "cells": [
  {
   "cell_type": "raw",
   "metadata": {},
   "source": [
    "\n",
    "------------------------------------- Project Dojo_Dicts -----------------------------------------------------\n",
    "\n",
    "-------------------------------- Algorithms using dictionaries -----------------------------------------------\n"
   ]
  },
  {
   "cell_type": "markdown",
   "metadata": {},
   "source": [
    "1. Create a dictionary with integer values\n",
    "\n",
    "{'price': 12.5, 'stock': 4}"
   ]
  },
  {
   "cell_type": "code",
   "execution_count": 1,
   "metadata": {},
   "outputs": [
    {
     "data": {
      "text/plain": [
       "{'price': 12.5, 'stock': 4}"
      ]
     },
     "execution_count": 1,
     "metadata": {},
     "output_type": "execute_result"
    }
   ],
   "source": [
    "# First way to create a Dict\n",
    "list_str = ['price', 'stock']\n",
    "list_int = [12.5, 4]\n",
    "dict_1 = dict(zip(list_str,list_int))\n",
    "dict_1"
   ]
  },
  {
   "cell_type": "code",
   "execution_count": 2,
   "metadata": {},
   "outputs": [
    {
     "data": {
      "text/plain": [
       "{'price': 4, 'stock': 4}"
      ]
     },
     "execution_count": 2,
     "metadata": {},
     "output_type": "execute_result"
    }
   ],
   "source": [
    "# Second way to create a Dict\n",
    "dict_1 = {}\n",
    "list_key = ['price', 'stock']\n",
    "list_value = [12.5, 4]\n",
    "\n",
    "for i in list_key:\n",
    "    for v in list_value:\n",
    "        dict_1[i] = v\n",
    "dict_1"
   ]
  },
  {
   "cell_type": "markdown",
   "metadata": {},
   "source": [
    "2. Create a dictionary with string values\n",
    "\n",
    "{'item': 'Switch', 'brand': 'Nintendo'}"
   ]
  },
  {
   "cell_type": "code",
   "execution_count": 4,
   "metadata": {},
   "outputs": [
    {
     "data": {
      "text/plain": [
       "{'item': 'Switch', 'brand': 'Nintendo'}"
      ]
     },
     "execution_count": 4,
     "metadata": {},
     "output_type": "execute_result"
    }
   ],
   "source": [
    "#Convert a list to dict\n",
    "list_str = ['item', 'Switch', 'brand', 'Nintendo']\n",
    "dict_2 = dict()\n",
    "\n",
    "for i, item in enumerate(list_str):\n",
    "    if i % 2 == 0:\n",
    "        dict_2[item] = list_str[i+1]\n",
    "dict_2"
   ]
  },
  {
   "cell_type": "markdown",
   "metadata": {},
   "source": [
    "3. Create a dictionary with a person's details (first name, last name, birthday, job)\n",
    "\n",
    "{'first_name': 'John',\n",
    " 'last_name': 'Doe',\n",
    " 'birthday': datetime.date(1980, 1, 1),\n",
    " 'job': 'Engineer'}"
   ]
  },
  {
   "cell_type": "code",
   "execution_count": 5,
   "metadata": {},
   "outputs": [
    {
     "data": {
      "text/plain": [
       "{'first_name': 'John',\n",
       " 'last_name': 'Doe',\n",
       " 'birthday': datetime.date(1980, 1, 1),\n",
       " 'job': 'Engineer'}"
      ]
     },
     "execution_count": 5,
     "metadata": {},
     "output_type": "execute_result"
    }
   ],
   "source": [
    "import datetime\n",
    "\n",
    "list_title = ['first_name', 'last_name', 'birthday','job']\n",
    "list_data1 = ['John', 'Doe', datetime.date(1980, 1, 1),'Engineer']\n",
    " \n",
    "dict_person1 = dict(zip(list_title, list_data1))\n",
    "dict_person1"
   ]
  },
  {
   "cell_type": "markdown",
   "metadata": {},
   "source": [
    "4. Add an address field to the person's details, which is another dictionary itself (street, postcode, city, country)\n",
    "\n",
    "{'first_name': 'John',\n",
    " 'last_name': 'Doe',\n",
    " 'birthday': datetime.date(1980, 1, 1),\n",
    " 'job': 'Engineer',\n",
    " 'address': {'street': '123 rue Victor Hugo',\n",
    "  'postcode': 38000,\n",
    "  'city': 'Grenoble',\n",
    "  'country': 'FR'}}"
   ]
  },
  {
   "cell_type": "code",
   "execution_count": 14,
   "metadata": {},
   "outputs": [
    {
     "data": {
      "text/plain": [
       "{'first_name': 'John',\n",
       " 'last_name': 'Doe',\n",
       " 'birthday': datetime.date(1980, 1, 1),\n",
       " 'job': 'Engineer',\n",
       " 'address': {'street': '123 rue Victor Hugo',\n",
       "  'postcode': 38000,\n",
       "  'city': 'Grenoble',\n",
       "  'country': 'FR'}}"
      ]
     },
     "execution_count": 14,
     "metadata": {},
     "output_type": "execute_result"
    }
   ],
   "source": [
    "list_t1 = ['street', 'postcode', 'city', 'country']\n",
    "list_adress = ['123 rue Victor Hugo', 38000, 'Grenoble', 'FR']\n",
    "\n",
    "dict_adress = dict(zip(list_t1,list_adress))\n",
    "dict_person1['address'] = dict_adress \n",
    "dict_person1"
   ]
  },
  {
   "cell_type": "markdown",
   "metadata": {},
   "source": [
    "5. Create a list of dictionaries with people's details (at least 2)\n",
    "\n",
    "[{'first_name': 'John',\n",
    "  'last_name': 'Doe',\n",
    "  'birthday': datetime.date(1980, 1, 1),\n",
    "  'job': 'Engineer',\n",
    "  'address': {'street': '123 rue Victor Hugo',\n",
    "   'postcode': 38000,\n",
    "   'city': 'Grenoble',\n",
    "   'country': 'FR'}},\n",
    " {'first_name': 'Jane',\n",
    "  'last_name': 'Doe',\n",
    "  'birthday': datetime.date(1978, 3, 1),\n",
    "  'job': 'Baker',\n",
    "  'address': {'street': '1 avenue Champs Elysées',\n",
    "   'postcode': 75000,\n",
    "   'city': 'Paris',\n",
    "   'country': 'FR'}}]"
   ]
  },
  {
   "cell_type": "code",
   "execution_count": 16,
   "metadata": {},
   "outputs": [
    {
     "data": {
      "text/plain": [
       "[{'first_name': 'John',\n",
       "  'last_name': 'Doe',\n",
       "  'birthday': datetime.date(1980, 1, 1),\n",
       "  'job': 'Engineer',\n",
       "  'address': {'street': '123 rue Victor Hugo',\n",
       "   'postcode': 38000,\n",
       "   'city': 'Grenoble',\n",
       "   'country': 'FR'}},\n",
       " {'first_name': 'Jane',\n",
       "  'last_name': 'Doe',\n",
       "  'birthday': datetime.date(1978, 3, 1),\n",
       "  'job': 'Baker',\n",
       "  'address': {'street': '1 avenue Champs Elysées',\n",
       "   'postcode': 75000,\n",
       "   'city': 'Paris',\n",
       "   'country': 'FR'}}]"
      ]
     },
     "execution_count": 16,
     "metadata": {},
     "output_type": "execute_result"
    }
   ],
   "source": [
    "dict_adress2 = {}\n",
    "list_dicts= []\n",
    "\n",
    "list_data2 = ['Jane', 'Doe', datetime.date(1978, 3, 1),'Baker']\n",
    "list_adress2 = ['1 avenue Champs Elysées', 75000, 'Paris', 'FR']\n",
    "\n",
    "dict_person2 = dict(zip(list_title, list_data2))\n",
    "dict_adress2 = dict(zip(list_t1,list_adress2))\n",
    "dict_person2['address'] = dict_adress2\n",
    "\n",
    "list_dicts.append(dict_person1)  # with loop for\n",
    "list_dicts.append(dict_person2)\n",
    "list_dicts"
   ]
  },
  {
   "cell_type": "markdown",
   "metadata": {},
   "source": [
    "6. Display the city for each person in the list of dictionaries\n",
    "\n",
    "John: Grenoble\n",
    "Jane: Paris"
   ]
  },
  {
   "cell_type": "code",
   "execution_count": 17,
   "metadata": {},
   "outputs": [
    {
     "name": "stdout",
     "output_type": "stream",
     "text": [
      "John: Grenoble\n",
      "Jane: Paris\n"
     ]
    }
   ],
   "source": [
    "for dixs in list_dicts:\n",
    "    print(dixs['first_name'],dixs['address']['city'],sep = ': ')"
   ]
  },
  {
   "cell_type": "markdown",
   "metadata": {},
   "source": [
    "7. Compute the average age from a list of dictionaries with people's details\n",
    "\n",
    "41"
   ]
  },
  {
   "cell_type": "code",
   "execution_count": 18,
   "metadata": {},
   "outputs": [
    {
     "name": "stdout",
     "output_type": "stream",
     "text": [
      "41\n"
     ]
    }
   ],
   "source": [
    "from datetime import date\n",
    "\n",
    "sum_age=0\n",
    "for dixs in list_dicts:\n",
    "    days_in_year = 365.2425\n",
    "    age = (date.today() - dixs['birthday']).days / days_in_year\n",
    "    sum_age+=age\n",
    "    \n",
    "print(round(sum_age) // len(list_dicts))"
   ]
  }
 ],
 "metadata": {
  "kernelspec": {
   "display_name": "Python 3",
   "language": "python",
   "name": "python3"
  },
  "language_info": {
   "codemirror_mode": {
    "name": "ipython",
    "version": 3
   },
   "file_extension": ".py",
   "mimetype": "text/x-python",
   "name": "python",
   "nbconvert_exporter": "python",
   "pygments_lexer": "ipython3",
   "version": "3.6.9"
  }
 },
 "nbformat": 4,
 "nbformat_minor": 2
}
