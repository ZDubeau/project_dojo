{
 "cells": [
  {
   "cell_type": "raw",
   "metadata": {},
   "source": [
    "\n",
    "--------------------------------- Project Dojo_Lists ---------------------------------------------\n",
    "\n",
    "------------------------------- Algorithms using lists -------------------------------------------\n"
   ]
  },
  {
   "cell_type": "markdown",
   "metadata": {},
   "source": [
    "1. Fill a list with integers from 0 to 9\n",
    "\n",
    "[0, 1, 2, 3, 4, 5, 6, 7, 8, 9]"
   ]
  },
  {
   "cell_type": "code",
   "execution_count": 1,
   "metadata": {},
   "outputs": [
    {
     "data": {
      "text/plain": [
       "[0, 1, 2, 3, 4, 5, 6, 7, 8, 9]"
      ]
     },
     "execution_count": 1,
     "metadata": {},
     "output_type": "execute_result"
    }
   ],
   "source": [
    "list_1 = []\n",
    "for i in range(10):\n",
    "    list_1.append(i)\n",
    "list_1"
   ]
  },
  {
   "cell_type": "code",
   "execution_count": 2,
   "metadata": {},
   "outputs": [
    {
     "data": {
      "text/plain": [
       "[0, 1, 2, 3, 4, 5, 6, 7, 8, 9]"
      ]
     },
     "execution_count": 2,
     "metadata": {},
     "output_type": "execute_result"
    }
   ],
   "source": [
    "liste = list(range(10))\n",
    "liste"
   ]
  },
  {
   "cell_type": "markdown",
   "metadata": {},
   "source": [
    "2. Append to the list even integers from 10 to 20\n",
    "\n",
    "[0, 1, 2, 3, 4, 5, 6, 7, 8, 9, 10, 12, 14, 16, 18, 20]"
   ]
  },
  {
   "cell_type": "code",
   "execution_count": 3,
   "metadata": {},
   "outputs": [
    {
     "data": {
      "text/plain": [
       "[0, 1, 2, 3, 4, 5, 6, 7, 8, 9, 10, 12, 14, 16, 18, 20]"
      ]
     },
     "execution_count": 3,
     "metadata": {},
     "output_type": "execute_result"
    }
   ],
   "source": [
    "# First way to create a new list and merge it with list_1\n",
    "list_2 = []\n",
    "for i in range(10, 21,2):\n",
    "    list_2.append(i)\n",
    "    i+=1\n",
    "list_merge1 = list_1 + list_2\n",
    "list_merge1"
   ]
  },
  {
   "cell_type": "code",
   "execution_count": 4,
   "metadata": {},
   "outputs": [
    {
     "data": {
      "text/plain": [
       "[0, 1, 2, 3, 4, 5, 6, 7, 8, 9, 10, 12, 14, 16, 18, 20]"
      ]
     },
     "execution_count": 4,
     "metadata": {},
     "output_type": "execute_result"
    }
   ],
   "source": [
    "#Second way without creating new List \n",
    "for i in range(10, 21,2):\n",
    "    list_1.append(i)\n",
    "list_1"
   ]
  },
  {
   "cell_type": "markdown",
   "metadata": {},
   "source": [
    "3. Append to the list odd integers from 21 to 30\n",
    "\n",
    "[0, 1, 2, 3, 4, 5, 6, 7, 8, 9, 10, 12, 14, 16, 18, 20, 21, 23, 25, 27, 29]"
   ]
  },
  {
   "cell_type": "code",
   "execution_count": 5,
   "metadata": {},
   "outputs": [
    {
     "data": {
      "text/plain": [
       "[0, 1, 2, 3, 4, 5, 6, 7, 8, 9, 10, 12, 14, 16, 18, 20, 21, 23, 25, 27, 29]"
      ]
     },
     "execution_count": 5,
     "metadata": {},
     "output_type": "execute_result"
    }
   ],
   "source": [
    "# One way\n",
    "list_3 = []\n",
    "for i in range(21, 30, 2):\n",
    "    list_3.append(i)\n",
    "    i+=1\n",
    "list_merge2 = list_merge1 + list_3\n",
    "list_merge2"
   ]
  },
  {
   "cell_type": "code",
   "execution_count": 6,
   "metadata": {},
   "outputs": [
    {
     "data": {
      "text/plain": [
       "[0, 1, 2, 3, 4, 5, 6, 7, 8, 9, 10, 12, 14, 16, 18, 20, 21, 23, 25, 27, 29]"
      ]
     },
     "execution_count": 6,
     "metadata": {},
     "output_type": "execute_result"
    }
   ],
   "source": [
    "# Another way\n",
    "for i in range(21, 30, 2):\n",
    "    list_1.append(i)\n",
    "list_1"
   ]
  },
  {
   "cell_type": "markdown",
   "metadata": {},
   "source": [
    "4. Reverse the order of the list of integers\n",
    "\n",
    "[29, 27, 25, 23, 21, 20, 18, 16, 14, 12, 10, 9, 8, 7, 6, 5, 4, 3, 2, 1, 0]"
   ]
  },
  {
   "cell_type": "code",
   "execution_count": 7,
   "metadata": {},
   "outputs": [
    {
     "data": {
      "text/plain": [
       "[29, 27, 25, 23, 21, 20, 18, 16, 14, 12, 10, 9, 8, 7, 6, 5, 4, 3, 2, 1, 0]"
      ]
     },
     "execution_count": 7,
     "metadata": {},
     "output_type": "execute_result"
    }
   ],
   "source": [
    "list_reverse = []\n",
    "for i in range(len(list_merge2)):\n",
    "    list_reverse.append(list_merge2[len(list_merge2)-1-i])\n",
    "list_reverse"
   ]
  },
  {
   "cell_type": "markdown",
   "metadata": {},
   "source": [
    "5. For each element of the integer list, print the index and the value\n",
    "\n",
    "index: 0, value: 29\n",
    "index: 1, value: 27\n",
    "index: 2, value: 25\n",
    "index: 3, value: 23\n",
    "index: 4, value: 21\n",
    "index: 5, value: 20\n",
    "index: 6, value: 18\n",
    "index: 7, value: 16\n",
    "index: 8, value: 14\n",
    "index: 9, value: 12\n",
    "index: 10, value: 10\n",
    "index: 11, value: 9\n",
    "index: 12, value: 8\n",
    "index: 13, value: 7\n",
    "index: 14, value: 6\n",
    "index: 15, value: 5\n",
    "index: 16, value: 4\n",
    "index: 17, value: 3\n",
    "index: 18, value: 2\n",
    "index: 19, value: 1\n",
    "index: 20, value: 0"
   ]
  },
  {
   "cell_type": "code",
   "execution_count": 8,
   "metadata": {},
   "outputs": [
    {
     "name": "stdout",
     "output_type": "stream",
     "text": [
      "index: 0, value: 29\n",
      "index: 1, value: 27\n",
      "index: 2, value: 25\n",
      "index: 3, value: 23\n",
      "index: 4, value: 21\n",
      "index: 5, value: 20\n",
      "index: 6, value: 18\n",
      "index: 7, value: 16\n",
      "index: 8, value: 14\n",
      "index: 9, value: 12\n",
      "index: 10, value: 10\n",
      "index: 11, value: 9\n",
      "index: 12, value: 8\n",
      "index: 13, value: 7\n",
      "index: 14, value: 6\n",
      "index: 15, value: 5\n",
      "index: 16, value: 4\n",
      "index: 17, value: 3\n",
      "index: 18, value: 2\n",
      "index: 19, value: 1\n",
      "index: 20, value: 0\n"
     ]
    }
   ],
   "source": [
    "for i, v in enumerate(list_reverse):\n",
    "    print(\"index: %s, value: %s\" % (i, v))\n",
    "    #print(f'index: {i}, value: {v}')# best way to print"
   ]
  },
  {
   "cell_type": "markdown",
   "metadata": {},
   "source": [
    "6. Keep only elements with an odd value\n",
    "\n",
    "[29, 27, 25, 23, 21, 9, 7, 5, 3, 1]"
   ]
  },
  {
   "cell_type": "code",
   "execution_count": 9,
   "metadata": {},
   "outputs": [
    {
     "data": {
      "text/plain": [
       "[29, 27, 25, 23, 21, 9, 7, 5, 3, 1]"
      ]
     },
     "execution_count": 9,
     "metadata": {},
     "output_type": "execute_result"
    }
   ],
   "source": [
    "list_odd = []\n",
    "for i in list_reverse:\n",
    "    if i%2 != 0:   #odd numbers\n",
    "        list_odd.append(i)\n",
    "list_odd"
   ]
  },
  {
   "cell_type": "markdown",
   "metadata": {},
   "source": [
    "7. Create a list of all alphabet characters from 'a' to 'z'\n",
    "\n",
    "['a',\n",
    " 'b',\n",
    " 'c',\n",
    " 'd',\n",
    " 'e',\n",
    " 'f',\n",
    " 'g',\n",
    " 'h',\n",
    " 'i',\n",
    " 'j',\n",
    " 'k',\n",
    " 'l',\n",
    " 'm',\n",
    " 'n',\n",
    " 'o',\n",
    " 'p',\n",
    " 'q',\n",
    " 'r',\n",
    " 's',\n",
    " 't',\n",
    " 'u',\n",
    " 'v',\n",
    " 'w',\n",
    " 'x',\n",
    " 'y',\n",
    " 'z']"
   ]
  },
  {
   "cell_type": "code",
   "execution_count": 10,
   "metadata": {},
   "outputs": [
    {
     "data": {
      "text/plain": [
       "['a',\n",
       " 'b',\n",
       " 'c',\n",
       " 'd',\n",
       " 'e',\n",
       " 'f',\n",
       " 'g',\n",
       " 'h',\n",
       " 'i',\n",
       " 'j',\n",
       " 'k',\n",
       " 'l',\n",
       " 'm',\n",
       " 'n',\n",
       " 'o',\n",
       " 'p',\n",
       " 'q',\n",
       " 'r',\n",
       " 's',\n",
       " 't',\n",
       " 'u',\n",
       " 'v',\n",
       " 'w',\n",
       " 'x',\n",
       " 'y',\n",
       " 'z']"
      ]
     },
     "execution_count": 10,
     "metadata": {},
     "output_type": "execute_result"
    }
   ],
   "source": [
    "import string\n",
    "\n",
    "list_alphabet = list(string.ascii_lowercase)  #Alphabet in lowercase\n",
    "list_alphabet"
   ]
  },
  {
   "cell_type": "markdown",
   "metadata": {},
   "source": [
    "8. Print for each element of the list of integer its equivalent character at the: same index\n",
    "\n",
    "index: 29, character: d\n",
    "index: 27, character: b\n",
    "index: 25, character: z\n",
    "index: 23, character: x\n",
    "index: 21, character: v\n",
    "index: 9, character: j\n",
    "index: 7, character: h\n",
    "index: 5, character: f\n",
    "index: 3, character: d\n",
    "index: 1, character: b"
   ]
  },
  {
   "cell_type": "code",
   "execution_count": 11,
   "metadata": {
    "scrolled": true
   },
   "outputs": [
    {
     "name": "stdout",
     "output_type": "stream",
     "text": [
      "index: 29, character: d\n",
      "index: 27, character: b\n",
      "index: 25, character: z\n",
      "index: 23, character: x\n",
      "index: 21, character: v\n",
      "index: 9, character: j\n",
      "index: 7, character: h\n",
      "index: 5, character: f\n",
      "index: 3, character: d\n",
      "index: 1, character: b\n"
     ]
    }
   ],
   "source": [
    "# First way from Dominique\n",
    "for number in list_odd:\n",
    "    if number // len(list_alphabet) < 1:  #read until 26th letter of list\n",
    "        value = list_alphabet[number]\n",
    "    else:\n",
    "        value = list_alphabet[number-len(list_alphabet)]   #read from 26th letter to end of list\n",
    "    print(f'index: {number}, character: {value}')"
   ]
  },
  {
   "cell_type": "code",
   "execution_count": 14,
   "metadata": {},
   "outputs": [
    {
     "name": "stdout",
     "output_type": "stream",
     "text": [
      "index: 29, character: d \n",
      "index: 27, character: b \n",
      "index: 25, character: z \n",
      "index: 23, character: x \n",
      "index: 21, character: v \n",
      "index: 9, character: j \n",
      "index: 7, character: h \n",
      "index: 5, character: f \n",
      "index: 3, character: d \n",
      "index: 1, character: b \n"
     ]
    }
   ],
   "source": [
    "# Second way to find equivalent\n",
    "last_list = []\n",
    "for i in list_odd:\n",
    "    last_list.append(list_alphabet[i%len(list_alphabet)])\n",
    "#print(last_list)\n",
    "for i, v in enumerate(last_list):\n",
    "    print(f\"index: {list_odd[i]}, character: {v} \")"
   ]
  },
  {
   "cell_type": "code",
   "execution_count": null,
   "metadata": {},
   "outputs": [],
   "source": []
  }
 ],
 "metadata": {
  "kernelspec": {
   "display_name": "Python 3",
   "language": "python",
   "name": "python3"
  },
  "language_info": {
   "codemirror_mode": {
    "name": "ipython",
    "version": 3
   },
   "file_extension": ".py",
   "mimetype": "text/x-python",
   "name": "python",
   "nbconvert_exporter": "python",
   "pygments_lexer": "ipython3",
   "version": "3.6.9"
  }
 },
 "nbformat": 4,
 "nbformat_minor": 2
}
